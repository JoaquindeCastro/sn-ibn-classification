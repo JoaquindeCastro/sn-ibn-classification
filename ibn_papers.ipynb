{
 "cells": [
  {
   "cell_type": "code",
   "execution_count": 1,
   "id": "fd212e45",
   "metadata": {},
   "outputs": [],
   "source": [
    "import pandas as pd\n",
    "import numpy as np\n",
    "import matplotlib.pyplot as plt\n",
    "from glob import glob\n",
    "import os\n",
    "from astropy.time import Time"
   ]
  },
  {
   "cell_type": "code",
   "execution_count": 2,
   "id": "58078645",
   "metadata": {},
   "outputs": [],
   "source": [
    "ROOT_DIR = r'C:\\Users\\jgmad\\Research\\Ibn'\n",
    "DATA_DIR =  os.path.join(ROOT_DIR, \"data\")\n",
    "TXT_DIR = os.path.join(DATA_DIR, \"ibn_papers_raw\")\n",
    "OUT_DIR = os.path.join(DATA_DIR,\"ibn_papers\")\n",
    "text_files = glob(os.path.join(TXT_DIR, \"*\"))"
   ]
  },
  {
   "cell_type": "code",
   "execution_count": 8,
   "id": "f59206c4",
   "metadata": {},
   "outputs": [
    {
     "name": "stdout",
     "output_type": "stream",
     "text": [
      "No nondets found for 2011hw\n",
      "Saved 2011hw to C:\\Users\\jgmad\\Research\\Ibn\\data\\ibn_papers\\2011hw.csv\n",
      "Saved 2014av to C:\\Users\\jgmad\\Research\\Ibn\\data\\ibn_papers\\2014av.csv\n",
      "No nondets found for 2015U\n",
      "Saved 2015U to C:\\Users\\jgmad\\Research\\Ibn\\data\\ibn_papers\\2015U.csv\n",
      "Saved 2018jmt to C:\\Users\\jgmad\\Research\\Ibn\\data\\ibn_papers\\2018jmt.csv\n",
      "No nondets found for 2019deh\n",
      "Saved 2019deh to C:\\Users\\jgmad\\Research\\Ibn\\data\\ibn_papers\\2019deh.csv\n",
      "No nondets found for 2019kbj\n",
      "Saved 2019kbj to C:\\Users\\jgmad\\Research\\Ibn\\data\\ibn_papers\\2019kbj.csv\n",
      "No nondets found for 2019uo\n",
      "Saved 2019uo to C:\\Users\\jgmad\\Research\\Ibn\\data\\ibn_papers\\2019uo.csv\n",
      "No nondets found for 2019wep\n",
      "Saved 2019wep to C:\\Users\\jgmad\\Research\\Ibn\\data\\ibn_papers\\2019wep.csv\n",
      "No nondets found for 2020nxt\n",
      "Saved 2020nxt to C:\\Users\\jgmad\\Research\\Ibn\\data\\ibn_papers\\2020nxt.csv\n",
      "No nondets found for 2021jpk\n",
      "Saved 2021jpk to C:\\Users\\jgmad\\Research\\Ibn\\data\\ibn_papers\\2021jpk.csv\n",
      "Saved 2023emq to C:\\Users\\jgmad\\Research\\Ibn\\data\\ibn_papers\\2023emq.csv\n",
      "No nondets found for 2023tsz\n",
      "Saved 2023tsz to C:\\Users\\jgmad\\Research\\Ibn\\data\\ibn_papers\\2023tsz.csv\n",
      "Saved 2024acyl to C:\\Users\\jgmad\\Research\\Ibn\\data\\ibn_papers\\2024acyl.csv\n",
      "Saved iPTF14aki to C:\\Users\\jgmad\\Research\\Ibn\\data\\ibn_papers\\iPTF14aki.csv\n",
      "Saved iPTF15akq to C:\\Users\\jgmad\\Research\\Ibn\\data\\ibn_papers\\iPTF15akq.csv\n",
      "Saved iPTF15ul to C:\\Users\\jgmad\\Research\\Ibn\\data\\ibn_papers\\iPTF15ul.csv\n",
      "Saved ps1-12sk to C:\\Users\\jgmad\\Research\\Ibn\\data\\ibn_papers\\ps1-12sk.csv\n",
      "Saved PTF11rfh to C:\\Users\\jgmad\\Research\\Ibn\\data\\ibn_papers\\PTF11rfh.csv\n",
      "Saved PTF12ldy to C:\\Users\\jgmad\\Research\\Ibn\\data\\ibn_papers\\PTF12ldy.csv\n"
     ]
    }
   ],
   "source": [
    "for file in text_files:\n",
    "    filename = os.path.basename(file)\n",
    "    supernova_name = filename.split(\"_\")[0]\n",
    "\n",
    "    df = pd.read_csv(\n",
    "        file,\n",
    "        comment='#',\n",
    "        sep=r'\\s+',        # split on any run of whitespace\n",
    "        quotechar='\"',     # so \"\" is parsed as an empty string, not as two quotes\n",
    "        engine='python',   # the python engine handles regex separators + quoting together\n",
    "        header=0           # first line is the column names\n",
    "    )\n",
    "\n",
    "    # 2) Convert JD → Time objects:\n",
    "    try:\n",
    "        t = Time(df['JD'], format='jd')\n",
    "    except ValueError:\n",
    "        print(supernova_name)\n",
    "\n",
    "    # 3) Add the new columns:\n",
    "    df['dateobs'] = t.iso               # e.g. \"2011-03-10 04:18:36.000\"\n",
    "    df['mjd']     = t.mjd               # e.g. 55884.77000000\n",
    "    df['source'] = 'papers'\n",
    "\n",
    "    # 4) Rename and reshape:\n",
    "    df = df.rename(columns={\n",
    "        'MAG':     'mag',\n",
    "        'MAG_ERR': 'dmag',\n",
    "        'FILTER':  'filter',\n",
    "        'DETECTION': 'magtype'\n",
    "    })\n",
    "    df['ant_maglim'] = np.where(df['magtype'] == -1,df['mag'],np.nan)\n",
    "    df['mag'] = np.where(df['magtype'] == 1,df['mag'],np.nan)\n",
    "\n",
    "    # 5) Reorder to your target format:\n",
    "    df = df[['dateobs','mjd','mag','dmag','ant_maglim','source','filter','magtype']]\n",
    "    df.to_csv(os.path.join(OUT_DIR, f\"{supernova_name}.csv\"), index=False)\n",
    "    if len(df[df['magtype'] == -1]) == 0:\n",
    "        print(f'No nondets found for {supernova_name}')\n",
    "    print(f'Saved {supernova_name} to {os.path.join(OUT_DIR, f\"{supernova_name}.csv\")}')"
   ]
  },
  {
   "cell_type": "code",
   "execution_count": 30,
   "id": "4c97c3d9",
   "metadata": {},
   "outputs": [
    {
     "name": "stdout",
     "output_type": "stream",
     "text": [
      "['2011hw', '2014av', '2015U', '2018jmt', '2019deh', '2019kbj', '2019uo', '2019wep', '2020nxt', '2021jpk', '2023emq', '2023tsz', '2024acyl', 'iPTF14aki', 'iPTF15akq', 'iPTF15ul', 'ps1-12sk', 'PTF11rfh', 'PTF12ldy']\n"
     ]
    }
   ],
   "source": [
    "print([os.path.basename(file).split(\"_\")[0] for file in text_files])"
   ]
  },
  {
   "cell_type": "code",
   "execution_count": null,
   "id": "be913d3c",
   "metadata": {},
   "outputs": [],
   "source": []
  }
 ],
 "metadata": {
  "kernelspec": {
   "display_name": "ibn_gp_venv",
   "language": "python",
   "name": "python3"
  },
  "language_info": {
   "codemirror_mode": {
    "name": "ipython",
    "version": 3
   },
   "file_extension": ".py",
   "mimetype": "text/x-python",
   "name": "python",
   "nbconvert_exporter": "python",
   "pygments_lexer": "ipython3",
   "version": "3.13.5"
  }
 },
 "nbformat": 4,
 "nbformat_minor": 5
}
